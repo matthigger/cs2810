{
 "cells": [
  {
   "cell_type": "markdown",
   "id": "3348985a",
   "metadata": {},
   "source": [
    "## Bessel's Correction (Motivation)\n",
    "\n",
    "How do we estimate the variance of a random variable by operating on observations?\n",
    "\n",
    "First attempt:\n",
    "\n",
    "$$ \\hat{\\sigma^2}_{bias} = \\frac{1}{N}\\sum_i (x_i - \\bar{x})^2 $$\n",
    "\n",
    "where $\\bar{x}$ is the sample mean.  Lets see how this works out for us..."
   ]
  },
  {
   "cell_type": "markdown",
   "id": "196c1a42",
   "metadata": {},
   "source": [
    "## Building a ground truth distribution:\n",
    "\n",
    "In practice, we don't usually have access to ground truth.  But to help ourselves study, lets build a toy example with known ground truth variance.  "
   ]
  },
  {
   "cell_type": "code",
   "execution_count": 1,
   "id": "8accfb49",
   "metadata": {},
   "outputs": [],
   "source": [
    "import numpy as np\n",
    "\n",
    "# a fair 6 sided die\n",
    "outcomes = np.array([1, 2, 3, 4, 5, 6])\n",
    "prob = np.array([1/6, 1/6, 1/6, 1/6, 1/6, 1/6])"
   ]
  },
  {
   "cell_type": "code",
   "execution_count": 2,
   "id": "f43f75da",
   "metadata": {},
   "outputs": [
    {
     "data": {
      "text/plain": [
       "2.916666666666666"
      ]
     },
     "execution_count": 2,
     "metadata": {},
     "output_type": "execute_result"
    }
   ],
   "source": [
    "# compute exp_value & variance\n",
    "truth_exp_val = np.dot(outcomes, prob)\n",
    "truth_var = np.dot(outcomes ** 2, prob) - truth_exp_val**2\n",
    "truth_var"
   ]
  },
  {
   "cell_type": "markdown",
   "id": "4e524fb1",
   "metadata": {},
   "source": [
    "## Lets \"roll\" the die N times and estimate the variance from our observations:"
   ]
  },
  {
   "cell_type": "code",
   "execution_count": 3,
   "id": "cb136d6f",
   "metadata": {},
   "outputs": [
    {
     "data": {
      "text/plain": [
       "[5, 3, 3]"
      ]
     },
     "execution_count": 3,
     "metadata": {},
     "output_type": "execute_result"
    }
   ],
   "source": [
    "from random import choices\n",
    "\n",
    "N = 3\n",
    "\n",
    "observations = choices(outcomes, prob, k=N)\n",
    "observations"
   ]
  },
  {
   "cell_type": "code",
   "execution_count": 4,
   "id": "321ddedb",
   "metadata": {},
   "outputs": [
    {
     "data": {
      "text/plain": [
       "3.6666666666666665"
      ]
     },
     "execution_count": 4,
     "metadata": {},
     "output_type": "execute_result"
    }
   ],
   "source": [
    "# compute sample mean, our estimate of expected value\n",
    "est_exp_val = sum(observations) / N\n",
    "est_exp_val"
   ]
  },
  {
   "cell_type": "markdown",
   "id": "ee830657",
   "metadata": {},
   "source": [
    "In the cell below:\n",
    "\n",
    "`est_var_bias` = $$ \\hat{\\sigma^2}_{bias} = \\frac{1}{N}\\sum_i (x_i - \\bar{x})^2 $$"
   ]
  },
  {
   "cell_type": "code",
   "execution_count": 5,
   "id": "993a0d70",
   "metadata": {},
   "outputs": [
    {
     "data": {
      "text/plain": [
       "0.8888888888888888"
      ]
     },
     "execution_count": 5,
     "metadata": {},
     "output_type": "execute_result"
    }
   ],
   "source": [
    "# compute biased variance estimator\n",
    "est_var_bias = sum((np.array(observations) - est_exp_val)**2) / N\n",
    "est_var_bias"
   ]
  },
  {
   "cell_type": "markdown",
   "id": "463d8be5",
   "metadata": {},
   "source": [
    "## Maybe its just unlucky in these first few examples that our estimate variance was often lower than ground truth ... lets repeat that a whole bunch:"
   ]
  },
  {
   "cell_type": "code",
   "execution_count": 40,
   "id": "41fe6342",
   "metadata": {},
   "outputs": [
    {
     "data": {
      "image/png": "[encoded data removed]",
      "text/plain": [
       "<Figure size 1080x360 with 1 Axes>"
      ]
     },
     "metadata": {},
     "output_type": "display_data"
    }
   ],
   "source": [
    "import numpy as np\n",
    "import matplotlib.pyplot as plt\n",
    "import seaborn as sns\n",
    "\n",
    "outcomes = np.array([1, 2, 3, 4, 5, 6])\n",
    "prob = np.array([1/6, 1/6, 1/6, 1/6, 1/6, 1/6])\n",
    "\n",
    "n_repeats = 1000\n",
    "N = 10\n",
    "\n",
    "# compute exp_value & variance\n",
    "truth_exp_val = np.dot(outcomes, prob)\n",
    "truth_var = np.dot(outcomes ** 2, prob) - truth_exp_val**2\n",
    "truth_var\n",
    "\n",
    "list_est_var = list()\n",
    "for _ in range(n_repeats):\n",
    "    # draw observations\n",
    "    observations = choices(outcomes, prob, k=N)\n",
    "    \n",
    "    # compute sampel mean (needed to compute est_var_bias)\n",
    "    est_exp_val = sum(observations) / N\n",
    "    \n",
    "    # compute biased variance estimate\n",
    "    est_var = sum((np.array(observations) - est_exp_val)**2) / N\n",
    "    \n",
    "    # store\n",
    "    list_est_var.append(est_var_bias)\n",
    "    \n",
    "\n",
    "sns.set(font_scale=1.5)\n",
    "plt.hist(list_est_var_bias, label='estimated variance (bias)', alpha=.5)\n",
    "plt.axvline(truth_var, label='ground truth variance', color='r')\n",
    "plt.axvline(np.mean(list_est_var_bias), label='mean estimated variance (bias)', color='b', linestyle='--')\n",
    "plt.xlabel('variance')\n",
    "plt.legend()\n",
    "plt.gcf().set_size_inches(15, 5)"
   ]
  },
  {
   "cell_type": "markdown",
   "id": "ca1cf80e",
   "metadata": {},
   "source": [
    "# Punchline:\n",
    "\n",
    "$$ \\hat{\\sigma^2}_{bias} = \\frac{1}{N}\\sum_i (x_i - \\bar{x})^2 $$\n",
    "\n",
    "consistently under estimates our variance.  We'll soon see that:\n",
    "\n",
    "$$ \\hat{\\sigma^2}_{bessel} = \\frac{1}{N-1}\\sum_i (x_i - \\bar{x})^2 $$\n",
    "\n",
    "on average, doesn't over or underestimate variance."
   ]
  }
 ],
 "metadata": {
  "kernelspec": {
   "display_name": "Python 3 (ipykernel)",
   "language": "python",
   "name": "python3"
  },
  "language_info": {
   "codemirror_mode": {
    "name": "ipython",
    "version": 3
   },
   "file_extension": ".py",
   "mimetype": "text/x-python",
   "name": "python",
   "nbconvert_exporter": "python",
   "pygments_lexer": "ipython3",
   "version": "3.8.10"
  }
 },
 "nbformat": 4,
 "nbformat_minor": 5
}
