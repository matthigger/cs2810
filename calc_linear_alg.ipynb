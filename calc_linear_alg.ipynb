{
 "cells": [
  {
   "cell_type": "markdown",
   "id": "affected-perry",
   "metadata": {},
   "source": [
    "# You can (and should) edit this file!\n",
    "## (This is your own copy of the file, it won't impact anybody else's)\n",
    "### (This is the CS2810 Python/Numpy Linear Algebra Calculator)\n",
    "\n",
    "1. Replace the `# your python code here` with your own python code\n",
    "    - Forget exactly what syntax to use to get the job done?   Please see the examples below.\n",
    "1. Hover your mouse over the cell you've just edited and click the \"play\" triangle to run the code\n",
    "    - by default, the last line's output (if any) is shown.  So compute on this final line to observe your output"
   ]
  },
  {
   "cell_type": "code",
   "execution_count": 1,
   "id": "agreed-chase",
   "metadata": {},
   "outputs": [],
   "source": [
    "import numpy as np\n",
    "import sympy\n",
    "\n",
    "# your python code here!"
   ]
  },
  {
   "cell_type": "markdown",
   "id": "educated-allen",
   "metadata": {},
   "source": [
    "## Initializing matrices"
   ]
  },
  {
   "cell_type": "code",
   "execution_count": 2,
   "id": "interpreted-logging",
   "metadata": {},
   "outputs": [
    {
     "data": {
      "text/plain": [
       "(2, 3)"
      ]
     },
     "execution_count": 2,
     "metadata": {},
     "output_type": "execute_result"
    }
   ],
   "source": [
    "# build a 2d matrix (first row is [1, 2 ,3])\n",
    "x = np.array([[1, 2, 3], \n",
    "              [4, 5, 6]])\n",
    "x.shape"
   ]
  },
  {
   "cell_type": "code",
   "execution_count": 3,
   "id": "naked-chest",
   "metadata": {},
   "outputs": [
    {
     "data": {
      "text/plain": [
       "(1, 3)"
      ]
     },
     "execution_count": 3,
     "metadata": {},
     "output_type": "execute_result"
    }
   ],
   "source": [
    "# build a row vector\n",
    "row_vec = np.array([[1, 2, 3]])\n",
    "row_vec.shape"
   ]
  },
  {
   "cell_type": "code",
   "execution_count": 4,
   "id": "recent-electronics",
   "metadata": {},
   "outputs": [
    {
     "data": {
      "text/plain": [
       "(3, 1)"
      ]
     },
     "execution_count": 4,
     "metadata": {},
     "output_type": "execute_result"
    }
   ],
   "source": [
    "# build a column vector\n",
    "col_vec = np.array([[1], [2], [3]])\n",
    "col_vec.shape"
   ]
  },
  {
   "cell_type": "code",
   "execution_count": 5,
   "id": "turkish-contrary",
   "metadata": {
    "scrolled": true
   },
   "outputs": [
    {
     "data": {
      "text/plain": [
       "(3, 1)"
      ]
     },
     "execution_count": 5,
     "metadata": {},
     "output_type": "execute_result"
    }
   ],
   "source": [
    "# use tranpose to build a column vector and not deal with as many [][][][][][]\n",
    "col_vec2 = row_vec.T\n",
    "col_vec2.shape"
   ]
  },
  {
   "cell_type": "code",
   "execution_count": 6,
   "id": "competitive-dimension",
   "metadata": {},
   "outputs": [
    {
     "data": {
      "text/plain": [
       "(3,)"
      ]
     },
     "execution_count": 6,
     "metadata": {},
     "output_type": "execute_result"
    }
   ],
   "source": [
    "# numpy has 1d matrices (which aren't really a math construction but a programming one)\n",
    "# they act as row / col vector when matrix multiplied depending on whats necessary\n",
    "# I suggest you avoid them initially to avoid accidentally violating the shape rule\n",
    "dangerous_vec = np.array([1, 2, 3])\n",
    "dangerous_vec.shape"
   ]
  },
  {
   "cell_type": "markdown",
   "id": "incorporate-triumph",
   "metadata": {},
   "source": [
    "# Reduced Row Echelon Form"
   ]
  },
  {
   "cell_type": "code",
   "execution_count": 7,
   "id": "white-fortune",
   "metadata": {
    "scrolled": true
   },
   "outputs": [
    {
     "data": {
      "text/latex": [
       "$\\displaystyle \\left[\\begin{matrix}1 & 0 & -1\\\\0 & 1 & 2\\end{matrix}\\right]$"
      ],
      "text/plain": [
       "Matrix([\n",
       "[1, 0, -1],\n",
       "[0, 1,  2]])"
      ]
     },
     "execution_count": 7,
     "metadata": {},
     "output_type": "execute_result"
    }
   ],
   "source": [
    "# reduced row echelon form\n",
    "# (swap in your preferred augmented matrix (with augment col) for x below)\n",
    "import sympy\n",
    "\n",
    "sympy.Matrix(x).rref()[0]"
   ]
  },
  {
   "cell_type": "markdown",
   "id": "d090d96e",
   "metadata": {},
   "source": [
    "## Eigenvalue / Eigenvectors"
   ]
  },
  {
   "cell_type": "code",
   "execution_count": 14,
   "id": "655ffc19",
   "metadata": {},
   "outputs": [
    {
     "data": {
      "text/plain": [
       "array([[1, 5],\n",
       "       [2, 4]])"
      ]
     },
     "execution_count": 14,
     "metadata": {},
     "output_type": "execute_result"
    }
   ],
   "source": [
    "import numpy as np\n",
    "\n",
    "a = np.array([[1, 5], [2, 4]])\n",
    "a"
   ]
  },
  {
   "cell_type": "code",
   "execution_count": 15,
   "id": "cf87b7ce",
   "metadata": {},
   "outputs": [
    {
     "data": {
      "text/plain": [
       "array([-1.,  6.])"
      ]
     },
     "execution_count": 15,
     "metadata": {},
     "output_type": "execute_result"
    }
   ],
   "source": [
    "# compute eigenvalues and eigenvectors\n",
    "eig_val, eig_vec = np.linalg.eig(a)\n",
    "\n",
    "# these are the eigenvalues of a\n",
    "eig_val"
   ]
  },
  {
   "cell_type": "code",
   "execution_count": 16,
   "id": "4d2e2c37",
   "metadata": {},
   "outputs": [
    {
     "data": {
      "text/plain": [
       "array([[-0.92847669, -0.70710678],\n",
       "       [ 0.37139068, -0.70710678]])"
      ]
     },
     "execution_count": 16,
     "metadata": {},
     "output_type": "execute_result"
    }
   ],
   "source": [
    "# each col of matrix below is an eigenvector of a\n",
    "# note: first column corresponds to first eigenvector in `eig_vec` and so on\n",
    "eig_vec"
   ]
  },
  {
   "cell_type": "code",
   "execution_count": 19,
   "id": "da6f7fbb",
   "metadata": {},
   "outputs": [
    {
     "data": {
      "text/plain": [
       "array([-0.92847669,  0.37139068])"
      ]
     },
     "execution_count": 19,
     "metadata": {},
     "output_type": "execute_result"
    }
   ],
   "source": [
    "# matrix above is tough to read ... numpy returns eigenvectors with length 1\n",
    "v = eig_vec[:, 0]\n",
    "v"
   ]
  },
  {
   "cell_type": "code",
   "execution_count": 22,
   "id": "ffa20831",
   "metadata": {},
   "outputs": [
    {
     "data": {
      "text/plain": [
       "array([-2.5,  1. ])"
      ]
     },
     "execution_count": 22,
     "metadata": {},
     "output_type": "execute_result"
    }
   ],
   "source": [
    "# pro-tip: divide the vector by the smallest absolute value entry and it'll clean up a bit\n",
    "# (remember: all scaled versions of eigenvector are also eigenvectors, so this scaling is appropriate)\n",
    "v_cleaner = v / np.abs(v).min()\n",
    "v_cleaner"
   ]
  },
  {
   "cell_type": "code",
   "execution_count": 24,
   "id": "0dbe7383",
   "metadata": {},
   "outputs": [
    {
     "data": {
      "text/plain": [
       "array([ 2.5, -1. ])"
      ]
     },
     "execution_count": 24,
     "metadata": {},
     "output_type": "execute_result"
    }
   ],
   "source": [
    "# remember: Av = \\lambda v\n",
    "a @ v_cleaner"
   ]
  },
  {
   "cell_type": "markdown",
   "id": "maritime-intermediate",
   "metadata": {},
   "source": [
    "# Matrix Operations"
   ]
  },
  {
   "cell_type": "code",
   "execution_count": 8,
   "id": "interested-august",
   "metadata": {},
   "outputs": [
    {
     "data": {
      "text/plain": [
       "array([[1, 2, 3],\n",
       "       [4, 5, 6]])"
      ]
     },
     "execution_count": 8,
     "metadata": {},
     "output_type": "execute_result"
    }
   ],
   "source": [
    "# lets remind ourselves what x is so we can see the operations \"before\" clearly\n",
    "x"
   ]
  },
  {
   "cell_type": "code",
   "execution_count": 9,
   "id": "august-belgium",
   "metadata": {},
   "outputs": [
    {
     "data": {
      "text/plain": [
       "array([[ 2,  4,  6],\n",
       "       [ 8, 10, 12]])"
      ]
     },
     "execution_count": 9,
     "metadata": {},
     "output_type": "execute_result"
    }
   ],
   "source": [
    "# matrix addition (add corresponding entries)\n",
    "x + x"
   ]
  },
  {
   "cell_type": "code",
   "execution_count": 10,
   "id": "innocent-milan",
   "metadata": {},
   "outputs": [
    {
     "data": {
      "text/plain": [
       "array([[ 3,  6,  9],\n",
       "       [12, 15, 18]])"
      ]
     },
     "execution_count": 10,
     "metadata": {},
     "output_type": "execute_result"
    }
   ],
   "source": [
    "# scalar multiplication (scale each entry by same value)\n",
    "x * 3"
   ]
  },
  {
   "cell_type": "code",
   "execution_count": 11,
   "id": "frequent-ending",
   "metadata": {},
   "outputs": [
    {
     "data": {
      "text/plain": [
       "array([[1],\n",
       "       [2],\n",
       "       [3]])"
      ]
     },
     "execution_count": 11,
     "metadata": {},
     "output_type": "execute_result"
    }
   ],
   "source": [
    "# reminding ourselves what col_vec is before we use it ...\n",
    "col_vec"
   ]
  },
  {
   "cell_type": "code",
   "execution_count": 12,
   "id": "entertaining-reduction",
   "metadata": {},
   "outputs": [
    {
     "data": {
      "text/plain": [
       "array([[14],\n",
       "       [32]])"
      ]
     },
     "execution_count": 12,
     "metadata": {},
     "output_type": "execute_result"
    }
   ],
   "source": [
    "# matrix multiplication (many definitions ... my favorite sub-type to remember is:\n",
    "# A MATRIX-VECTOR MULTIPLICATION IS A LINEAR COMBINATION OF THE COLUMNS OF THE MATRIX ... :)\n",
    "x @ col_vec"
   ]
  },
  {
   "cell_type": "markdown",
   "id": "coral-survey",
   "metadata": {},
   "source": [
    "# Special Matrices"
   ]
  },
  {
   "cell_type": "code",
   "execution_count": 13,
   "id": "protected-modification",
   "metadata": {},
   "outputs": [],
   "source": [
    "# just a new example x\n",
    "x = np.array([[1, 2], [3, 4]])"
   ]
  },
  {
   "cell_type": "code",
   "execution_count": 14,
   "id": "sublime-lawyer",
   "metadata": {},
   "outputs": [
    {
     "data": {
      "text/plain": [
       "array([[-2. ,  1. ],\n",
       "       [ 1.5, -0.5]])"
      ]
     },
     "execution_count": 14,
     "metadata": {},
     "output_type": "execute_result"
    }
   ],
   "source": [
    "# inverse\n",
    "np.linalg.inv(x)"
   ]
  },
  {
   "cell_type": "code",
   "execution_count": 15,
   "id": "sized-crest",
   "metadata": {},
   "outputs": [
    {
     "data": {
      "text/plain": [
       "array([[1, 3],\n",
       "       [2, 4]])"
      ]
     },
     "execution_count": 15,
     "metadata": {},
     "output_type": "execute_result"
    }
   ],
   "source": [
    "# transpose (just as shown above)\n",
    "x.T"
   ]
  },
  {
   "cell_type": "markdown",
   "id": "equipped-solid",
   "metadata": {},
   "source": [
    "# Saving/Loading a `csv` file as a matrix\n",
    "Datasets with 100s of rows / cols shouldn't be typed out each time.  Instead, save as a spreadsheet (must be comma seperated value: `csv`) and then load whenever needed."
   ]
  },
  {
   "cell_type": "code",
   "execution_count": 16,
   "id": "prostate-place",
   "metadata": {},
   "outputs": [
    {
     "data": {
      "text/plain": [
       "array([[1., 2., 3.],\n",
       "       [4., 5., 6.],\n",
       "       [7., 8., 9.]])"
      ]
     },
     "execution_count": 16,
     "metadata": {},
     "output_type": "execute_result"
    }
   ],
   "source": [
    "a = np.array([[1,2,3],\n",
    "              [4,5,6], \n",
    "              [7,8,9]])\n",
    "\n",
    "# saves matrix a as a csv\n",
    "np.savetxt('matrix_a.csv', a, delimiter=',')\n",
    "\n",
    "# load matrix from a csv\n",
    "another_a = np.genfromtxt('matrix_a.csv', delimiter=',')\n",
    "another_a"
   ]
  }
 ],
 "metadata": {
  "kernelspec": {
   "display_name": "Python 3 (ipykernel)",
   "language": "python",
   "name": "python3"
  },
  "language_info": {
   "codemirror_mode": {
    "name": "ipython",
    "version": 3
   },
   "file_extension": ".py",
   "mimetype": "text/x-python",
   "name": "python",
   "nbconvert_exporter": "python",
   "pygments_lexer": "ipython3",
   "version": "3.8.10"
  }
 },
 "nbformat": 4,
 "nbformat_minor": 5
}
