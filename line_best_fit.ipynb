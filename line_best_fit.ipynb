{
  "cells": [
    {
      "cell_type": "markdown",
      "id": "cac754dc",
      "metadata": {
        "id": "cac754dc"
      },
      "source": [
        "# Line (Polynomial) of Best Fit\n",
        "\n",
        "This demo shows how the multi-dimensional projection formula we used in class can be used to fit a line to a set of points.\n",
        "\n",
        "To see the effect of each of the parameters in the cell below, go ahead and change them as you'd like and see what happens to the output.\n",
        "\n",
        "To run this notebook, click `Runtime > Run All` directly above.\n",
        "\n",
        "### Overfitting / Cross-Validation Motivation\n",
        "Set the parameters as shown below for a nifty looking output\n",
        "\n",
        "```python\n",
        "# target polynomial we use to build our scatter points\n",
        "# m = [1, 2, 3] implies b = 1 + 2a + 3a^2\n",
        "m = [1, 2, 3]\n",
        "\n",
        "# number of points to sample (from range -3 to 3)\n",
        "num_pts = 11\n",
        "\n",
        "# order of polynomial we estimate with\n",
        "poly_order = 10\n",
        "\n",
        "```\n",
        "\n",
        "Behavior like this happens everytime `num_pts = poly_order + 1`.\n",
        "\n",
        "Almost seems like *too good* a fit, right?"
      ]
    },
    {
      "cell_type": "markdown",
      "source": [
        "# Building sample data to estimate"
      ],
      "metadata": {
        "id": "zNYc80toqR-v"
      },
      "id": "zNYc80toqR-v"
    },
    {
      "cell_type": "code",
      "execution_count": null,
      "id": "eleven-corpus",
      "metadata": {
        "id": "eleven-corpus"
      },
      "outputs": [],
      "source": [
        "# m is the target polynomial we use to build our scatter points\n",
        "# m = [1, 2, 3] implies b = 1 + 2a + 3a^2\n",
        "# note that you can make polynoimals of higher or lower\n",
        "# order by making this list longer or shorter\n",
        "# (m = [1, 2, 3, 4, 5, 6] is also a valid input)\n",
        "m = [1, 2, 3, 4]\n",
        "\n",
        "# number of points to sample (from range -3 to 3)\n",
        "num_pts = 100\n",
        "\n",
        "# order of polynomial we estimate with\n",
        "poly_order = 3"
      ]
    },
    {
      "cell_type": "code",
      "execution_count": null,
      "id": "6f122b63",
      "metadata": {
        "id": "6f122b63"
      },
      "outputs": [],
      "source": [
        "import matplotlib.pyplot as plt\n",
        "import numpy as np\n",
        "import seaborn as sns\n",
        "\n",
        "# this command makes graphs looks a bit nicer\n",
        "# (you could skip importing seaborn above and this line if you prefer)\n",
        "sns.set(font_scale=2)\n",
        "\n",
        "# build an a, b from target polynomial\n",
        "a = np.linspace(-3, 3, num_pts)\n",
        "b = sum(coef * a ** order for order, coef in enumerate(m))\n",
        "\n",
        "# add a bit of random 'noise'\n",
        "rng = np.random.default_rng(seed=0)\n",
        "b += rng.normal(size=b.size, scale=20)"
      ]
    },
    {
      "cell_type": "code",
      "execution_count": null,
      "id": "0e71fe8b",
      "metadata": {
        "colab": {
          "base_uri": "https://localhost:8080/",
          "height": 540
        },
        "id": "0e71fe8b",
        "outputId": "2c3c6a05-c41f-462c-9e5c-e712c5aaa399"
      },
      "outputs": [
        {
          "output_type": "execute_result",
          "data": {
            "text/plain": [
              "Text(0, 0.5, 'b')"
            ]
          },
          "metadata": {},
          "execution_count": 38
        },
        {
          "output_type": "display_data",
          "data": {
            "image/png": "[encoded data removed]",
            "text/plain": [
              "<Figure size 1080x576 with 1 Axes>"
            ]
          },
          "metadata": {}
        }
      ],
      "source": [
        "# plot\n",
        "plt.figure(figsize=(15, 8))\n",
        "plt.scatter(a, b)\n",
        "plt.xlabel('a')\n",
        "plt.ylabel('b')\n"
      ]
    },
    {
      "cell_type": "markdown",
      "id": "d4a24162",
      "metadata": {
        "id": "d4a24162"
      },
      "source": [
        "# Estimating the polynomial from data\n",
        "1. build matrix A\n",
        "    - column 0 is a to the 0th power\n",
        "        - also known as: bias term\n",
        "    - column 1 is a to the 1st power\n",
        "    - column 2 is a to the 2nd power\n",
        "2. estimate model coefficients $m = \\begin{bmatrix} m_0 \\\\ m_1 \\\\ m_2 \\\\ \\vdots \\end{bmatrix}$\n",
        "    - Remember our estimated polynomial is:\n",
        "        $$b = m_0 + m_1 a + m_2 a^2 + m_3 a^3 + ... $$\n",
        "3. using estimated model coefficients $m$, predict where $b$ \"should\" be for each $a$ value"
      ]
    },
    {
      "cell_type": "code",
      "execution_count": null,
      "id": "5fdf85f8",
      "metadata": {
        "scrolled": true,
        "colab": {
          "base_uri": "https://localhost:8080/"
        },
        "id": "5fdf85f8",
        "outputId": "ffcb18ca-1ddb-4890-b37a-fb0c7b7a8e3e"
      },
      "outputs": [
        {
          "output_type": "execute_result",
          "data": {
            "text/plain": [
              "array([[ 1.00000000e+00, -3.00000000e+00,  9.00000000e+00,\n",
              "        -2.70000000e+01],\n",
              "       [ 1.00000000e+00, -2.93939394e+00,  8.64003673e+00,\n",
              "        -2.53964716e+01],\n",
              "       [ 1.00000000e+00, -2.87878788e+00,  8.28741965e+00,\n",
              "        -2.38577232e+01],\n",
              "       [ 1.00000000e+00, -2.81818182e+00,  7.94214876e+00,\n",
              "        -2.23824192e+01],\n",
              "       [ 1.00000000e+00, -2.75757576e+00,  7.60422406e+00,\n",
              "        -2.09692239e+01],\n",
              "       [ 1.00000000e+00, -2.69696970e+00,  7.27364555e+00,\n",
              "        -1.96168016e+01],\n",
              "       [ 1.00000000e+00, -2.63636364e+00,  6.95041322e+00,\n",
              "        -1.83238167e+01],\n",
              "       [ 1.00000000e+00, -2.57575758e+00,  6.63452709e+00,\n",
              "        -1.70889334e+01],\n",
              "       [ 1.00000000e+00, -2.51515152e+00,  6.32598714e+00,\n",
              "        -1.59108162e+01],\n",
              "       [ 1.00000000e+00, -2.45454545e+00,  6.02479339e+00,\n",
              "        -1.47881292e+01],\n",
              "       [ 1.00000000e+00, -2.39393939e+00,  5.73094582e+00,\n",
              "        -1.37195370e+01],\n",
              "       [ 1.00000000e+00, -2.33333333e+00,  5.44444444e+00,\n",
              "        -1.27037037e+01],\n",
              "       [ 1.00000000e+00, -2.27272727e+00,  5.16528926e+00,\n",
              "        -1.17392938e+01],\n",
              "       [ 1.00000000e+00, -2.21212121e+00,  4.89348026e+00,\n",
              "        -1.08249715e+01],\n",
              "       [ 1.00000000e+00, -2.15151515e+00,  4.62901745e+00,\n",
              "        -9.95940117e+00],\n",
              "       [ 1.00000000e+00, -2.09090909e+00,  4.37190083e+00,\n",
              "        -9.14124718e+00],\n",
              "       [ 1.00000000e+00, -2.03030303e+00,  4.12213039e+00,\n",
              "        -8.36917383e+00],\n",
              "       [ 1.00000000e+00, -1.96969697e+00,  3.87970615e+00,\n",
              "        -7.64184545e+00],\n",
              "       [ 1.00000000e+00, -1.90909091e+00,  3.64462810e+00,\n",
              "        -6.95792637e+00],\n",
              "       [ 1.00000000e+00, -1.84848485e+00,  3.41689624e+00,\n",
              "        -6.31608092e+00],\n",
              "       [ 1.00000000e+00, -1.78787879e+00,  3.19651056e+00,\n",
              "        -5.71497343e+00],\n",
              "       [ 1.00000000e+00, -1.72727273e+00,  2.98347107e+00,\n",
              "        -5.15326822e+00],\n",
              "       [ 1.00000000e+00, -1.66666667e+00,  2.77777778e+00,\n",
              "        -4.62962963e+00],\n",
              "       [ 1.00000000e+00, -1.60606061e+00,  2.57943067e+00,\n",
              "        -4.14272199e+00],\n",
              "       [ 1.00000000e+00, -1.54545455e+00,  2.38842975e+00,\n",
              "        -3.69120962e+00],\n",
              "       [ 1.00000000e+00, -1.48484848e+00,  2.20477502e+00,\n",
              "        -3.27375685e+00],\n",
              "       [ 1.00000000e+00, -1.42424242e+00,  2.02846648e+00,\n",
              "        -2.88902802e+00],\n",
              "       [ 1.00000000e+00, -1.36363636e+00,  1.85950413e+00,\n",
              "        -2.53568745e+00],\n",
              "       [ 1.00000000e+00, -1.30303030e+00,  1.69788797e+00,\n",
              "        -2.21239948e+00],\n",
              "       [ 1.00000000e+00, -1.24242424e+00,  1.54361800e+00,\n",
              "        -1.91782842e+00],\n",
              "       [ 1.00000000e+00, -1.18181818e+00,  1.39669421e+00,\n",
              "        -1.65063862e+00],\n",
              "       [ 1.00000000e+00, -1.12121212e+00,  1.25711662e+00,\n",
              "        -1.40949439e+00],\n",
              "       [ 1.00000000e+00, -1.06060606e+00,  1.12488522e+00,\n",
              "        -1.19306008e+00],\n",
              "       [ 1.00000000e+00, -1.00000000e+00,  1.00000000e+00,\n",
              "        -1.00000000e+00],\n",
              "       [ 1.00000000e+00, -9.39393939e-01,  8.82460973e-01,\n",
              "        -8.28978490e-01],\n",
              "       [ 1.00000000e+00, -8.78787879e-01,  7.72268136e-01,\n",
              "        -6.78659877e-01],\n",
              "       [ 1.00000000e+00, -8.18181818e-01,  6.69421488e-01,\n",
              "        -5.47708490e-01],\n",
              "       [ 1.00000000e+00, -7.57575758e-01,  5.73921028e-01,\n",
              "        -4.34788658e-01],\n",
              "       [ 1.00000000e+00, -6.96969697e-01,  4.85766758e-01,\n",
              "        -3.38564710e-01],\n",
              "       [ 1.00000000e+00, -6.36363636e-01,  4.04958678e-01,\n",
              "        -2.57700977e-01],\n",
              "       [ 1.00000000e+00, -5.75757576e-01,  3.31496786e-01,\n",
              "        -1.90861786e-01],\n",
              "       [ 1.00000000e+00, -5.15151515e-01,  2.65381084e-01,\n",
              "        -1.36711467e-01],\n",
              "       [ 1.00000000e+00, -4.54545455e-01,  2.06611570e-01,\n",
              "        -9.39143501e-02],\n",
              "       [ 1.00000000e+00, -3.93939394e-01,  1.55188246e-01,\n",
              "        -6.11347636e-02],\n",
              "       [ 1.00000000e+00, -3.33333333e-01,  1.11111111e-01,\n",
              "        -3.70370370e-02],\n",
              "       [ 1.00000000e+00, -2.72727273e-01,  7.43801653e-02,\n",
              "        -2.02854996e-02],\n",
              "       [ 1.00000000e+00, -2.12121212e-01,  4.49954086e-02,\n",
              "        -9.54448062e-03],\n",
              "       [ 1.00000000e+00, -1.51515152e-01,  2.29568411e-02,\n",
              "        -3.47830926e-03],\n",
              "       [ 1.00000000e+00, -9.09090909e-02,  8.26446281e-03,\n",
              "        -7.51314801e-04],\n",
              "       [ 1.00000000e+00, -3.03030303e-02,  9.18273646e-04,\n",
              "        -2.78264741e-05],\n",
              "       [ 1.00000000e+00,  3.03030303e-02,  9.18273646e-04,\n",
              "         2.78264741e-05],\n",
              "       [ 1.00000000e+00,  9.09090909e-02,  8.26446281e-03,\n",
              "         7.51314801e-04],\n",
              "       [ 1.00000000e+00,  1.51515152e-01,  2.29568411e-02,\n",
              "         3.47830926e-03],\n",
              "       [ 1.00000000e+00,  2.12121212e-01,  4.49954086e-02,\n",
              "         9.54448062e-03],\n",
              "       [ 1.00000000e+00,  2.72727273e-01,  7.43801653e-02,\n",
              "         2.02854996e-02],\n",
              "       [ 1.00000000e+00,  3.33333333e-01,  1.11111111e-01,\n",
              "         3.70370370e-02],\n",
              "       [ 1.00000000e+00,  3.93939394e-01,  1.55188246e-01,\n",
              "         6.11347636e-02],\n",
              "       [ 1.00000000e+00,  4.54545455e-01,  2.06611570e-01,\n",
              "         9.39143501e-02],\n",
              "       [ 1.00000000e+00,  5.15151515e-01,  2.65381084e-01,\n",
              "         1.36711467e-01],\n",
              "       [ 1.00000000e+00,  5.75757576e-01,  3.31496786e-01,\n",
              "         1.90861786e-01],\n",
              "       [ 1.00000000e+00,  6.36363636e-01,  4.04958678e-01,\n",
              "         2.57700977e-01],\n",
              "       [ 1.00000000e+00,  6.96969697e-01,  4.85766758e-01,\n",
              "         3.38564710e-01],\n",
              "       [ 1.00000000e+00,  7.57575758e-01,  5.73921028e-01,\n",
              "         4.34788658e-01],\n",
              "       [ 1.00000000e+00,  8.18181818e-01,  6.69421488e-01,\n",
              "         5.47708490e-01],\n",
              "       [ 1.00000000e+00,  8.78787879e-01,  7.72268136e-01,\n",
              "         6.78659877e-01],\n",
              "       [ 1.00000000e+00,  9.39393939e-01,  8.82460973e-01,\n",
              "         8.28978490e-01],\n",
              "       [ 1.00000000e+00,  1.00000000e+00,  1.00000000e+00,\n",
              "         1.00000000e+00],\n",
              "       [ 1.00000000e+00,  1.06060606e+00,  1.12488522e+00,\n",
              "         1.19306008e+00],\n",
              "       [ 1.00000000e+00,  1.12121212e+00,  1.25711662e+00,\n",
              "         1.40949439e+00],\n",
              "       [ 1.00000000e+00,  1.18181818e+00,  1.39669421e+00,\n",
              "         1.65063862e+00],\n",
              "       [ 1.00000000e+00,  1.24242424e+00,  1.54361800e+00,\n",
              "         1.91782842e+00],\n",
              "       [ 1.00000000e+00,  1.30303030e+00,  1.69788797e+00,\n",
              "         2.21239948e+00],\n",
              "       [ 1.00000000e+00,  1.36363636e+00,  1.85950413e+00,\n",
              "         2.53568745e+00],\n",
              "       [ 1.00000000e+00,  1.42424242e+00,  2.02846648e+00,\n",
              "         2.88902802e+00],\n",
              "       [ 1.00000000e+00,  1.48484848e+00,  2.20477502e+00,\n",
              "         3.27375685e+00],\n",
              "       [ 1.00000000e+00,  1.54545455e+00,  2.38842975e+00,\n",
              "         3.69120962e+00],\n",
              "       [ 1.00000000e+00,  1.60606061e+00,  2.57943067e+00,\n",
              "         4.14272199e+00],\n",
              "       [ 1.00000000e+00,  1.66666667e+00,  2.77777778e+00,\n",
              "         4.62962963e+00],\n",
              "       [ 1.00000000e+00,  1.72727273e+00,  2.98347107e+00,\n",
              "         5.15326822e+00],\n",
              "       [ 1.00000000e+00,  1.78787879e+00,  3.19651056e+00,\n",
              "         5.71497343e+00],\n",
              "       [ 1.00000000e+00,  1.84848485e+00,  3.41689624e+00,\n",
              "         6.31608092e+00],\n",
              "       [ 1.00000000e+00,  1.90909091e+00,  3.64462810e+00,\n",
              "         6.95792637e+00],\n",
              "       [ 1.00000000e+00,  1.96969697e+00,  3.87970615e+00,\n",
              "         7.64184545e+00],\n",
              "       [ 1.00000000e+00,  2.03030303e+00,  4.12213039e+00,\n",
              "         8.36917383e+00],\n",
              "       [ 1.00000000e+00,  2.09090909e+00,  4.37190083e+00,\n",
              "         9.14124718e+00],\n",
              "       [ 1.00000000e+00,  2.15151515e+00,  4.62901745e+00,\n",
              "         9.95940117e+00],\n",
              "       [ 1.00000000e+00,  2.21212121e+00,  4.89348026e+00,\n",
              "         1.08249715e+01],\n",
              "       [ 1.00000000e+00,  2.27272727e+00,  5.16528926e+00,\n",
              "         1.17392938e+01],\n",
              "       [ 1.00000000e+00,  2.33333333e+00,  5.44444444e+00,\n",
              "         1.27037037e+01],\n",
              "       [ 1.00000000e+00,  2.39393939e+00,  5.73094582e+00,\n",
              "         1.37195370e+01],\n",
              "       [ 1.00000000e+00,  2.45454545e+00,  6.02479339e+00,\n",
              "         1.47881292e+01],\n",
              "       [ 1.00000000e+00,  2.51515152e+00,  6.32598714e+00,\n",
              "         1.59108162e+01],\n",
              "       [ 1.00000000e+00,  2.57575758e+00,  6.63452709e+00,\n",
              "         1.70889334e+01],\n",
              "       [ 1.00000000e+00,  2.63636364e+00,  6.95041322e+00,\n",
              "         1.83238167e+01],\n",
              "       [ 1.00000000e+00,  2.69696970e+00,  7.27364555e+00,\n",
              "         1.96168016e+01],\n",
              "       [ 1.00000000e+00,  2.75757576e+00,  7.60422406e+00,\n",
              "         2.09692239e+01],\n",
              "       [ 1.00000000e+00,  2.81818182e+00,  7.94214876e+00,\n",
              "         2.23824192e+01],\n",
              "       [ 1.00000000e+00,  2.87878788e+00,  8.28741965e+00,\n",
              "         2.38577232e+01],\n",
              "       [ 1.00000000e+00,  2.93939394e+00,  8.64003673e+00,\n",
              "         2.53964716e+01],\n",
              "       [ 1.00000000e+00,  3.00000000e+00,  9.00000000e+00,\n",
              "         2.70000000e+01]])"
            ]
          },
          "metadata": {},
          "execution_count": 39
        }
      ],
      "source": [
        "# 1. build design matrix A\n",
        "A = np.vstack([a ** exp for exp in range(poly_order + 1)]).T\n",
        "A"
      ]
    },
    {
      "cell_type": "code",
      "execution_count": null,
      "id": "e422c9cc",
      "metadata": {
        "colab": {
          "base_uri": "https://localhost:8080/"
        },
        "id": "e422c9cc",
        "outputId": "069ae859-db88-4e65-ee93-7ceb6e5539b4"
      },
      "outputs": [
        {
          "output_type": "execute_result",
          "data": {
            "text/plain": [
              "array([6.02256887, 4.80256052, 1.88890144, 3.57931664])"
            ]
          },
          "metadata": {},
          "execution_count": 40
        }
      ],
      "source": [
        "# 2. compute model coefficients\n",
        "m = np.linalg.inv(A.T @ A) @ A.T @ b\n",
        "m"
      ]
    },
    {
      "cell_type": "code",
      "execution_count": null,
      "id": "197e692e",
      "metadata": {
        "colab": {
          "base_uri": "https://localhost:8080/"
        },
        "id": "197e692e",
        "outputId": "2ce03b0e-d295-412f-8b9d-6b3e4d01c945"
      },
      "outputs": [
        {
          "output_type": "execute_result",
          "data": {
            "text/plain": [
              "array([-88.02654911, -82.6758841 , -77.5432111 , -72.62374933,\n",
              "       -67.91271801, -63.40533633, -59.09682352, -54.98239879,\n",
              "       -51.05728134, -47.3166904 , -43.75584516, -40.36996484,\n",
              "       -37.15426865, -34.10397581, -31.21430553, -28.48047701,\n",
              "       -25.89770947, -23.46122212, -21.16623417, -19.00796484,\n",
              "       -16.98163332, -15.08245885, -13.30566062, -11.64645785,\n",
              "       -10.10006975,  -8.66171553,  -7.3266144 ,  -6.08998558,\n",
              "        -4.94704827,  -3.89302169,  -2.92312505,  -2.03257755,\n",
              "        -1.21659842,  -0.47040686,   0.21077791,   0.83173669,\n",
              "         1.39725026,   1.91209942,   2.38106494,   2.80892762,\n",
              "         3.20046825,   3.56046762,   3.89370651,   4.20496571,\n",
              "         4.49902601,   4.78066821,   5.05467308,   5.32582142,\n",
              "         5.59889402,   5.87867166,   6.16993513,   6.47746523,\n",
              "         6.80604273,   7.16044844,   7.54546313,   7.9658676 ,\n",
              "         8.42644263,   8.93196901,   9.48722754,  10.09699899,\n",
              "        10.76606417,  11.49920385,  12.30119883,  13.17682989,\n",
              "        14.13087783,  15.16812342,  16.29334747,  17.51133076,\n",
              "        18.82685407,  20.2446982 ,  21.76964393,  23.40647206,\n",
              "        25.15996336,  27.03489864,  29.03605868,  31.16822426,\n",
              "        33.43617618,  35.84469522,  38.39856218,  41.10255784,\n",
              "        43.96146298,  46.98005841,  50.1631249 ,  53.51544325,\n",
              "        57.04179425,  60.74695867,  64.63571732,  68.71285098,\n",
              "        72.98314044,  77.45136648,  82.1223099 ,  87.00075149,\n",
              "        92.09147202,  97.3992523 , 102.92887311, 108.68511524,\n",
              "       114.67275947, 120.8965866 , 127.36137742, 134.0719127 ])"
            ]
          },
          "metadata": {},
          "execution_count": 41
        }
      ],
      "source": [
        "a_100 = np.linspace(a[0], a[-1], 100)\n",
        "A_100 = np.vstack([a_100 ** exp for exp in range(poly_order + 1)]).T\n",
        "\n",
        "# 3. estimate b\n",
        "b_estimate = A_100 @ m\n",
        "b_estimate"
      ]
    },
    {
      "cell_type": "code",
      "execution_count": null,
      "id": "5377fe6b",
      "metadata": {
        "scrolled": false,
        "colab": {
          "base_uri": "https://localhost:8080/",
          "height": 523
        },
        "id": "5377fe6b",
        "outputId": "f3c61467-2e12-4316-e416-8efa9a4cbd48"
      },
      "outputs": [
        {
          "output_type": "display_data",
          "data": {
            "image/png": "[encoded data removed]",
            "text/plain": [
              "<Figure size 1080x576 with 1 Axes>"
            ]
          },
          "metadata": {}
        }
      ],
      "source": [
        "# we've done all this hard work ... lets see some results!\n",
        "plt.figure(figsize=(15, 8))\n",
        "plt.scatter(a, b)\n",
        "plt.plot(a_100, b_estimate, linewidth=3, color='r', linestyle='--')\n",
        "plt.xlabel('a')\n",
        "plt.ylabel('b');"
      ]
    }
  ],
  "metadata": {
    "kernelspec": {
      "display_name": "Python 3",
      "language": "python",
      "name": "python3"
    },
    "language_info": {
      "codemirror_mode": {
        "name": "ipython",
        "version": 3
      },
      "file_extension": ".py",
      "mimetype": "text/x-python",
      "name": "python",
      "nbconvert_exporter": "python",
      "pygments_lexer": "ipython3",
      "version": "3.8.10"
    },
    "colab": {
      "name": "line_best_fit.ipynb",
      "provenance": [],
      "collapsed_sections": []
    }
  },
  "nbformat": 4,
  "nbformat_minor": 5
}