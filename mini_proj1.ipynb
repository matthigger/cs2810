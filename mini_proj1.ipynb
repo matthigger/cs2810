{
 "cells": [
  {
   "cell_type": "markdown",
   "metadata": {},
   "source": [
    "# Mini Project 1\n",
    "\n",
    "Complete the Jupyter Notebook below with your group of two to four students.  You need only submit one Jupyter Notebook to [gradescope](https://www.gradescope.com/courses/347537/assignments/1923319).  While you may submit your groups work to gradescope anytime until **Mar 23 @ 11:59PM** my expectation is that most groups are able to complete the work and submit in class today.\n",
    "\n",
    "### Goal: \n",
    "I have three goals for students in doing this \"mini project\":\n",
    "- I'd like you to have fun\n",
    "- I'd like you to see that the math we've learned is useful in real problems\n",
    "- I'd like you to practice your math \"translation\" skills:\n",
    "    - evaluating assumptions of a model\n",
    "    - interpretting meaning of math inputs/outputs in the context of an application\n",
    "    - evaluating trustworthiness of model"
   ]
  },
  {
   "cell_type": "markdown",
   "metadata": {},
   "source": [
    "# Part 1: Food Poisson-ing\n",
    "\n",
    "We present data of all the instances that Raw Oysters caused somebody to file a report with the FDA ([source](https://www.kaggle.com/fda/adverse-food-events))."
   ]
  },
  {
   "cell_type": "markdown",
   "metadata": {},
   "source": [
    "<img src=\"https://i.ibb.co/CMb6Q2d/adverse-oyster.png\">"
   ]
  },
  {
   "cell_type": "markdown",
   "metadata": {},
   "source": [
    "The table below shows the same data, binned into two-week \"buckets\".  For example that the `Jul 05` bucket has value `10` implies that in the two week period starting on July 05, 2012, 10 total reports were filed with the FDA about raw oysters.\n",
    "\n",
    "| Date (2012) | Jan-01      | Jan-16      | Feb-01      | Feb-16      | Mar-03      | Mar-18      | Apr-03      | Apr-18| May-04| May-19| Jun-04| Jun-20| Jul-05| Jul-21| Aug-05| Aug-21| Sep-05| Sep-21| Oct-06| Oct-22| Nov-07| Nov-22| Dec-08| Dec-23|\n",
    "|-------------|-------------|-------------|-------------|-------------|-------------|-------------|-------------|-------------|-------------|-------------|-------------|-------------|-------------|-------------|-------------|-------------|-------------|-------------|-------------|-------------|-------------|-------------|-------------|-------------|\n",
    "| X           | 0           | 0           | 0           | 0           | 1           | 1           | 0           | 1           | 3           | 3           | 5           | 4           | 10          | 8           | 7           | 5           | 6           | 0           | 4           | 3           | 3           | 0           | 0           | 0           |\n",
    "|             |             |             |             |             |             |             |             |             |             |             |             |             |             |             |             |             |             |             |             |             |             |             |             |             |\n",
    "| Date (2013)       | Jan-08 | Jan-23 | Feb-08 | Feb-23 | Mar-11 | Mar-27 | Apr-11 | Apr-27 | May-12 | May-28 | Jun-12 | Jun-28 | Jul-13 | Jul-29 | Aug-14 | Aug-29 | Sep-14 | Sep-29 | Oct-15 | Oct-30 | Nov-15 | Nov-30 | Dec-16 |  |\n",
    "| X           | 0           | 0           | 0           | 0           | 0           | 1           | 1           | 3           | 4           | 5           | 4           | 7           | 8           | 5           | 3           | 2           | 3           | 2           | 0           | 0           | 0           | 0           | 0           |           |"
   ]
  },
  {
   "cell_type": "markdown",
   "metadata": {},
   "source": [
    "## Part 1.1\n",
    "Build a Poisson distribution over the number of Raw Oyster complaints in a two week period from May to Aug."
   ]
  },
  {
   "cell_type": "markdown",
   "metadata": {},
   "source": [
    "respond-here-please"
   ]
  },
  {
   "cell_type": "markdown",
   "metadata": {},
   "source": [
    "## Part 1.2\n",
    "Use your model to predict the probability that more than 4 people file complaints in a given two week period (May to Aug).\n",
    "\n",
    "(There'll be a lot of computation here, make use of the [poisson example](https://colab.research.google.com/github/matthigger/cs2810/blob/main/prob_stats_calculator.ipynb#scrollTo=19bc8810) in our `prob_stats_calculator`)"
   ]
  },
  {
   "cell_type": "markdown",
   "metadata": {},
   "source": [
    "respond-here-please"
   ]
  },
  {
   "cell_type": "markdown",
   "metadata": {},
   "source": [
    "## Part 1.3\n",
    "This model is helpful for predicting FDA reports ... though we're really interested in **all** the raw oyster adverse events (not just those reported to the FDA).  What assumptions could you make to use this data to build a model of all the bad oysters?  Write a response of at least two sentences which describes your process.  Your solution should be accurate while also minimizing data collection efforts.  (We could go door to door and survey everyone about oysters and this might be accurate ... though its cumbersome to do!)\n",
    "    "
   ]
  },
  {
   "cell_type": "markdown",
   "metadata": {},
   "source": [
    "respond-here-please"
   ]
  },
  {
   "cell_type": "markdown",
   "metadata": {},
   "source": [
    "# Part 2: Movie Genre\n",
    "Using the analysis immediately below, answer the questions which follow."
   ]
  },
  {
   "cell_type": "code",
   "execution_count": 1,
   "metadata": {
    "scrolled": true
   },
   "outputs": [
    {
     "data": {
      "text/html": [
       "<div>\n",
       "<style scoped>\n",
       "    .dataframe tbody tr th:only-of-type {\n",
       "        vertical-align: middle;\n",
       "    }\n",
       "\n",
       "    .dataframe tbody tr th {\n",
       "        vertical-align: top;\n",
       "    }\n",
       "\n",
       "    .dataframe thead th {\n",
       "        text-align: right;\n",
       "    }\n",
       "</style>\n",
       "<table border=\"1\" class=\"dataframe\">\n",
       "  <thead>\n",
       "    <tr style=\"text-align: right;\">\n",
       "      <th></th>\n",
       "      <th>revenue_million</th>\n",
       "      <th>bias</th>\n",
       "      <th>Action</th>\n",
       "      <th>Adventure</th>\n",
       "      <th>Animation</th>\n",
       "      <th>Comedy</th>\n",
       "      <th>Crime</th>\n",
       "      <th>Documentary</th>\n",
       "      <th>Drama</th>\n",
       "      <th>Family</th>\n",
       "      <th>...</th>\n",
       "      <th>Foreign</th>\n",
       "      <th>History</th>\n",
       "      <th>Horror</th>\n",
       "      <th>Music</th>\n",
       "      <th>Mystery</th>\n",
       "      <th>Romance</th>\n",
       "      <th>Science Fiction</th>\n",
       "      <th>Thriller</th>\n",
       "      <th>War</th>\n",
       "      <th>Western</th>\n",
       "    </tr>\n",
       "    <tr>\n",
       "      <th>title</th>\n",
       "      <th></th>\n",
       "      <th></th>\n",
       "      <th></th>\n",
       "      <th></th>\n",
       "      <th></th>\n",
       "      <th></th>\n",
       "      <th></th>\n",
       "      <th></th>\n",
       "      <th></th>\n",
       "      <th></th>\n",
       "      <th></th>\n",
       "      <th></th>\n",
       "      <th></th>\n",
       "      <th></th>\n",
       "      <th></th>\n",
       "      <th></th>\n",
       "      <th></th>\n",
       "      <th></th>\n",
       "      <th></th>\n",
       "      <th></th>\n",
       "      <th></th>\n",
       "    </tr>\n",
       "  </thead>\n",
       "  <tbody>\n",
       "    <tr>\n",
       "      <th>Avatar</th>\n",
       "      <td>2787.965087</td>\n",
       "      <td>1</td>\n",
       "      <td>1.0</td>\n",
       "      <td>1.0</td>\n",
       "      <td>0.0</td>\n",
       "      <td>0.0</td>\n",
       "      <td>0.0</td>\n",
       "      <td>0.0</td>\n",
       "      <td>0.0</td>\n",
       "      <td>0.0</td>\n",
       "      <td>...</td>\n",
       "      <td>0.0</td>\n",
       "      <td>0.0</td>\n",
       "      <td>0.0</td>\n",
       "      <td>0.0</td>\n",
       "      <td>0.0</td>\n",
       "      <td>0.0</td>\n",
       "      <td>1.0</td>\n",
       "      <td>0.0</td>\n",
       "      <td>0.0</td>\n",
       "      <td>0.0</td>\n",
       "    </tr>\n",
       "    <tr>\n",
       "      <th>Pirates of the Caribbean: At World's End</th>\n",
       "      <td>961.000000</td>\n",
       "      <td>1</td>\n",
       "      <td>1.0</td>\n",
       "      <td>1.0</td>\n",
       "      <td>0.0</td>\n",
       "      <td>0.0</td>\n",
       "      <td>0.0</td>\n",
       "      <td>0.0</td>\n",
       "      <td>0.0</td>\n",
       "      <td>0.0</td>\n",
       "      <td>...</td>\n",
       "      <td>0.0</td>\n",
       "      <td>0.0</td>\n",
       "      <td>0.0</td>\n",
       "      <td>0.0</td>\n",
       "      <td>0.0</td>\n",
       "      <td>0.0</td>\n",
       "      <td>0.0</td>\n",
       "      <td>0.0</td>\n",
       "      <td>0.0</td>\n",
       "      <td>0.0</td>\n",
       "    </tr>\n",
       "    <tr>\n",
       "      <th>Spectre</th>\n",
       "      <td>880.674609</td>\n",
       "      <td>1</td>\n",
       "      <td>1.0</td>\n",
       "      <td>1.0</td>\n",
       "      <td>0.0</td>\n",
       "      <td>0.0</td>\n",
       "      <td>1.0</td>\n",
       "      <td>0.0</td>\n",
       "      <td>0.0</td>\n",
       "      <td>0.0</td>\n",
       "      <td>...</td>\n",
       "      <td>0.0</td>\n",
       "      <td>0.0</td>\n",
       "      <td>0.0</td>\n",
       "      <td>0.0</td>\n",
       "      <td>0.0</td>\n",
       "      <td>0.0</td>\n",
       "      <td>0.0</td>\n",
       "      <td>0.0</td>\n",
       "      <td>0.0</td>\n",
       "      <td>0.0</td>\n",
       "    </tr>\n",
       "    <tr>\n",
       "      <th>The Dark Knight Rises</th>\n",
       "      <td>1084.939099</td>\n",
       "      <td>1</td>\n",
       "      <td>1.0</td>\n",
       "      <td>0.0</td>\n",
       "      <td>0.0</td>\n",
       "      <td>0.0</td>\n",
       "      <td>1.0</td>\n",
       "      <td>0.0</td>\n",
       "      <td>1.0</td>\n",
       "      <td>0.0</td>\n",
       "      <td>...</td>\n",
       "      <td>0.0</td>\n",
       "      <td>0.0</td>\n",
       "      <td>0.0</td>\n",
       "      <td>0.0</td>\n",
       "      <td>0.0</td>\n",
       "      <td>0.0</td>\n",
       "      <td>0.0</td>\n",
       "      <td>1.0</td>\n",
       "      <td>0.0</td>\n",
       "      <td>0.0</td>\n",
       "    </tr>\n",
       "    <tr>\n",
       "      <th>John Carter</th>\n",
       "      <td>284.139100</td>\n",
       "      <td>1</td>\n",
       "      <td>1.0</td>\n",
       "      <td>1.0</td>\n",
       "      <td>0.0</td>\n",
       "      <td>0.0</td>\n",
       "      <td>0.0</td>\n",
       "      <td>0.0</td>\n",
       "      <td>0.0</td>\n",
       "      <td>0.0</td>\n",
       "      <td>...</td>\n",
       "      <td>0.0</td>\n",
       "      <td>0.0</td>\n",
       "      <td>0.0</td>\n",
       "      <td>0.0</td>\n",
       "      <td>0.0</td>\n",
       "      <td>0.0</td>\n",
       "      <td>1.0</td>\n",
       "      <td>0.0</td>\n",
       "      <td>0.0</td>\n",
       "      <td>0.0</td>\n",
       "    </tr>\n",
       "  </tbody>\n",
       "</table>\n",
       "<p>5 rows × 21 columns</p>\n",
       "</div>"
      ],
      "text/plain": [
       "                                          revenue_million  bias  Action  \\\n",
       "title                                                                     \n",
       "Avatar                                        2787.965087     1     1.0   \n",
       "Pirates of the Caribbean: At World's End       961.000000     1     1.0   \n",
       "Spectre                                        880.674609     1     1.0   \n",
       "The Dark Knight Rises                         1084.939099     1     1.0   \n",
       "John Carter                                    284.139100     1     1.0   \n",
       "\n",
       "                                          Adventure  Animation  Comedy  Crime  \\\n",
       "title                                                                           \n",
       "Avatar                                          1.0        0.0     0.0    0.0   \n",
       "Pirates of the Caribbean: At World's End        1.0        0.0     0.0    0.0   \n",
       "Spectre                                         1.0        0.0     0.0    1.0   \n",
       "The Dark Knight Rises                           0.0        0.0     0.0    1.0   \n",
       "John Carter                                     1.0        0.0     0.0    0.0   \n",
       "\n",
       "                                          Documentary  Drama  Family  ...  \\\n",
       "title                                                                 ...   \n",
       "Avatar                                            0.0    0.0     0.0  ...   \n",
       "Pirates of the Caribbean: At World's End          0.0    0.0     0.0  ...   \n",
       "Spectre                                           0.0    0.0     0.0  ...   \n",
       "The Dark Knight Rises                             0.0    1.0     0.0  ...   \n",
       "John Carter                                       0.0    0.0     0.0  ...   \n",
       "\n",
       "                                          Foreign  History  Horror  Music  \\\n",
       "title                                                                       \n",
       "Avatar                                        0.0      0.0     0.0    0.0   \n",
       "Pirates of the Caribbean: At World's End      0.0      0.0     0.0    0.0   \n",
       "Spectre                                       0.0      0.0     0.0    0.0   \n",
       "The Dark Knight Rises                         0.0      0.0     0.0    0.0   \n",
       "John Carter                                   0.0      0.0     0.0    0.0   \n",
       "\n",
       "                                          Mystery  Romance  Science Fiction  \\\n",
       "title                                                                         \n",
       "Avatar                                        0.0      0.0              1.0   \n",
       "Pirates of the Caribbean: At World's End      0.0      0.0              0.0   \n",
       "Spectre                                       0.0      0.0              0.0   \n",
       "The Dark Knight Rises                         0.0      0.0              0.0   \n",
       "John Carter                                   0.0      0.0              1.0   \n",
       "\n",
       "                                          Thriller  War  Western  \n",
       "title                                                             \n",
       "Avatar                                         0.0  0.0      0.0  \n",
       "Pirates of the Caribbean: At World's End       0.0  0.0      0.0  \n",
       "Spectre                                        0.0  0.0      0.0  \n",
       "The Dark Knight Rises                          1.0  0.0      0.0  \n",
       "John Carter                                    0.0  0.0      0.0  \n",
       "\n",
       "[5 rows x 21 columns]"
      ]
     },
     "execution_count": 1,
     "metadata": {},
     "output_type": "execute_result"
    }
   ],
   "source": [
    "import pandas as pd\n",
    "\n",
    "df_movie = pd.read_csv('movie_genre.csv', index_col='title')\n",
    "df_movie.head()"
   ]
  },
  {
   "cell_type": "code",
   "execution_count": 2,
   "metadata": {},
   "outputs": [],
   "source": [
    "import numpy as np\n",
    "\n",
    "a = df_movie.iloc[:, 1:].to_numpy()\n",
    "b = df_movie.loc[:, 'revenue_million'].to_numpy()\n",
    "m = np.linalg.inv(a.T @ a) @ a.T @ b"
   ]
  },
  {
   "cell_type": "code",
   "execution_count": 3,
   "metadata": {
    "scrolled": false
   },
   "outputs": [
    {
     "data": {
      "text/plain": [
       "Foreign            -96.108679\n",
       "Documentary        -88.729655\n",
       "Western            -78.169669\n",
       "Horror             -56.132348\n",
       "Drama              -41.878922\n",
       "Comedy             -41.083593\n",
       "Music              -22.917757\n",
       "Thriller           -20.147985\n",
       "History            -19.189254\n",
       "Crime              -12.603275\n",
       "War                 -9.908850\n",
       "Romance              5.535831\n",
       "Mystery             10.761349\n",
       "Family              19.192326\n",
       "Science Fiction     19.637241\n",
       "Action              32.737779\n",
       "Fantasy             64.913972\n",
       "Adventure           91.535446\n",
       "Animation           97.809736\n",
       "bias               122.262881\n",
       "dtype: float64"
      ]
     },
     "execution_count": 3,
     "metadata": {},
     "output_type": "execute_result"
    }
   ],
   "source": [
    "m_series = pd.Series(dict(zip(df_movie.columns[1:], m)))\n",
    "m_series.sort_values(inplace=True)\n",
    "m_series"
   ]
  },
  {
   "cell_type": "markdown",
   "metadata": {},
   "source": [
    "## Part 2.1\n",
    "Which single genre is associated with making the least amount of money?  Suppose one interprets this to mean that this genre is least popular, give a compelling reason why they may not be correct."
   ]
  },
  {
   "cell_type": "markdown",
   "metadata": {},
   "source": [
    "respond-here-please"
   ]
  },
  {
   "cell_type": "markdown",
   "metadata": {},
   "source": [
    "## Part 2.2\n",
    "Predict the revenue (in millions of dollars) of a \"Family Horror\" film (one film which belongs to both categories).  Critique your prediction, is using the model in this way reasonable?"
   ]
  },
  {
   "cell_type": "markdown",
   "metadata": {},
   "source": [
    "respond-here-please"
   ]
  },
  {
   "cell_type": "markdown",
   "metadata": {},
   "source": [
    "## Part 2.3\n",
    "Would it be approrpiate to use this model to predict revenues for movies not originally in english?  (Poking around [where the data came from](https://www.kaggle.com/tmdb/tmdb-movie-metadata?select=tmdb_5000_movies.csv) is helpful here)"
   ]
  },
  {
   "cell_type": "markdown",
   "metadata": {},
   "source": [
    "respond-here-please"
   ]
  },
  {
   "cell_type": "markdown",
   "metadata": {},
   "source": [
    "# Part 3: Pitch Your Own Model\n",
    "Identify a suitable application for one of the math models we've studied so far:\n",
    "- line of best fit\n",
    "- poisson / binomial distribution model\n",
    "- dynamical system modelling\n",
    "- perceptron\n",
    "\n",
    "You may not repeat anything discussed in class or used by another group.  Please choose a model which is fun to work with and relevant to the math model above.  You may find it inspirational to poke around these data sources to see what kinds of data are available to build a model with:\n",
    "\n",
    "- [google dataset search](https://datasetsearch.research.google.com/)\n",
    "- [kaggle](https://kaggle.com/)\n",
    "- [Global Health Observatory](https://apps.who.int/gho/data/node.home)\n",
    "- [UCI Machine Learning Repo](https://archive.ics.uci.edu/ml/index.php)\n",
    "- [data.gov](https://www.data.gov/)\n",
    "- [FiveThirtyEight](https://data.fivethirtyeight.com/)\n",
    "\n",
    "Your \"mini-pitch\" should be a few sentences which respond to each section below.  (Please use the given labels for your responses so they're easily graded, just double click below to replace the instructions with your responses)"
   ]
  },
  {
   "cell_type": "markdown",
   "metadata": {},
   "source": [
    "# Your-Pitch-Title-Here-Please\n",
    "\n",
    "### Problem Statement:\n",
    "One or two direct sentences which motivate and introduce the problem your math model helps with.\n",
    "\n",
    "### Data Sourcing: \n",
    "Where / How will one find the data to build the math model?  You needn't find the data online, you're welcome to describe how one would collect it too.  (e.g. surveys, experiments, web scraping etc)\n",
    "\n",
    "### Approach: \n",
    "- Tell which of the five given math models (line of best fit, poisson, binomial, dynamical system, perceptron) you'd use\n",
    "- specifically identify each of their inputs\n",
    "- describe what kinds of insights your model would provide once built\n",
    "    - e.g. a poisson model of cars arriving at the traffic light allows us to compute the probability that more than N cars arrive during peak traffic times.\n",
    "\n",
    "### Critiques & Assumptions:\n",
    "Describe two assumptions you must make to build your data model.  Discuss the severity of each."
   ]
  }
 ],
 "metadata": {
  "kernelspec": {
   "display_name": "Python 3 (ipykernel)",
   "language": "python",
   "name": "python3"
  },
  "language_info": {
   "codemirror_mode": {
    "name": "ipython",
    "version": 3
   },
   "file_extension": ".py",
   "mimetype": "text/x-python",
   "name": "python",
   "nbconvert_exporter": "python",
   "pygments_lexer": "ipython3",
   "version": "3.8.10"
  }
 },
 "nbformat": 4,
 "nbformat_minor": 4
}
