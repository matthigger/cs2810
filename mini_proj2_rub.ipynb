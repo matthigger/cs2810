{
 "cells": [
  {
   "cell_type": "markdown",
   "metadata": {},
   "source": [
    "# Mini Project 2 (22 points total)\n",
    "\n",
    "Complete the Jupyter Notebook below with your group of two to four students.  You need only submit one Jupyter Notebook to [gradescope](https://www.gradescope.com/courses/347537/assignments/2012798/) for your whole group (be sure to add all group members).  \n",
    "\n",
    "While you may submit your groups work to gradescope anytime until **April 26 @ 11:59PM** my expectation is that most of the work can be completed in class today.\n",
    "\n",
    "________________\n"
   ]
  },
  {
   "cell_type": "markdown",
   "metadata": {},
   "source": [
    "In this Mini Project, you'll write two homework problems of your choosing.  \n",
    "\n",
    "# Can future courses re-use these problems? (please?)\n",
    "We'd love to be able to use these problems in a future semester.  If you'd allow us, please save this jupyter notebook and, in addition to submitting on gradescope, upload [here](https://www.dropbox.com/request/wdM7nfvpxGUvKXdmUqgu).  (This is entirely optional)\n",
    "\n",
    "We're happy to cite your team, our source for these problems.  If you'd like to be acknowledged, please include your email addresses in the cell below.  You're welcome to leave the cell below blank if you prefer to not have your emails associated with your problem.\n",
    "\n",
    "Know that we'll very likely edit a problem before sharing with future students."
   ]
  },
  {
   "cell_type": "code",
   "execution_count": 1,
   "metadata": {},
   "outputs": [],
   "source": [
    "# emails to be included"
   ]
  },
  {
   "cell_type": "markdown",
   "metadata": {},
   "source": [
    "# Data Sources\n",
    "\n",
    "- [google dataset search](https://datasetsearch.research.google.com/)\n",
    "- [kaggle](https://kaggle.com/)\n",
    "- [Global Health Observatory](https://apps.who.int/gho/data/node.home)\n",
    "- [UCI Machine Learning Repo](https://archive.ics.uci.edu/ml/index.php)\n",
    "- [data.gov](https://www.data.gov/)\n",
    "- [FiveThirtyEight](https://data.fivethirtyeight.com/)\n"
   ]
  },
  {
   "cell_type": "markdown",
   "metadata": {},
   "source": [
    "# Part 1: Hypothesis Test / Cov&Corr / theory problem\n",
    "\n",
    "Choose any application of interest and write a multi-part homework problem which practices it.  The best problems:\n",
    "- have clean connections between the \"application story\" and the mathematics\n",
    "- are fun and interesting to think about\n",
    "\n",
    "Below we list some popular topics for homework problems:\n",
    "\n",
    "- **hypothesis tests:**\n",
    "    - t-test\n",
    "        - is it 1 or 2 sided?\n",
    "    - chi square test\n",
    "        - what is the target distribution you're comparing to?\n",
    "            - some known discrete distribution\n",
    "            - binomial\n",
    "            - poisson\n",
    "            - (whatever the target distribution you're comparing to, be sure its reasonable)\n",
    "- hypothesis test considerations:\n",
    "    - can you source real data for this data or must you make up numbers?\n",
    "    - be sure the problem can be done with pencil / paper\n",
    "        - limit sample sizes to what can be computed by hand\n",
    "\n",
    "- **covariance / correlation**\n",
    "    - identify some interesting question which can be answered from observing correlation / covariance\n",
    "    - you must source real data for this\n",
    "    - once you have a csv of real data,you can get the correlation / covariance matrix via:\n",
    "    \n",
    "```python\n",
    "import pandas as pd\n",
    "\n",
    "df = pd.read_csv('your_csv_file_here.csv')\n",
    "\n",
    "# covariance\n",
    "df.cov()\n",
    "\n",
    "# correlation matrix\n",
    "df.corr()\n",
    "```\n",
    "\n",
    "- **theory / application problem**\n",
    "    - there's a few interesting ideas you could ask a question about in some application\n",
    "        - law of large numbers\n",
    "        - central limit theorem\n",
    "        \n",
    "Choose one of the three bolded problem topics above and write a homework problem below:\n",
    "- give a clean description which is easily understood by all students\n",
    "- scaffold your questions from easy to hard\n",
    "    - if a question, as posed, is too difficult you might consider leading student by breaking it into two\n",
    "- write a solution for each part, which in addition to being correct, is clear enough to allow students to learn why its correct while reading it\n",
    "\n",
    "### Part 1 (rubric):\n",
    "- 3 problem is original / interesting\n",
    "- 3 problem is appropriately expansive / difficult enough for CS2810 students\n",
    "    - you can pose something as \"extra credit\" if its a stretch, but be sure its accesible extra credit\n",
    "- 3 problem is written clearly and succinctly\n",
    "- 3 solution is correct\n",
    "- 3 solution is clear"
   ]
  },
  {
   "cell_type": "markdown",
   "metadata": {},
   "source": [
    "# Part 2: Build a Bayes Network"
   ]
  },
  {
   "cell_type": "markdown",
   "metadata": {},
   "source": [
    "In this part, build a homework problem on a Bayes Net on a topic of your choosing.\n",
    "\n",
    "- Bayes network on four nodes\n",
    "    - too many nodes and the joint distribution table has too many rows ...\n",
    "- ask the student 3 or 4 questions which build towards some intuition\n",
    "    - demonstrate / explain a conditional independence relationship\n",
    "    - demonstrate some intuition encapsulated in the network:\n",
    "        - e.g. in HW9 problem 4: \"defending a basketball shot decreases the expected points earned\"\n",
    "\n",
    "\n",
    "Your submission should include 4 items:\n",
    "- the text of the problem\n",
    "- the solution to each part\n",
    "- the image of the bayes net (appendix 1)\n",
    "- the joint distribution table (appendix 2)"
   ]
  },
  {
   "cell_type": "markdown",
   "metadata": {},
   "source": [
    "# Part 2 (rubric):\n",
    "- 3 problem is original / interesting\n",
    "- 3 problem is appropriately expansive / difficult enough for CS2810 students\n",
    "    - you can pose something as \"extra credit\" if its a stretch, but be sure its accesible extra credit\n",
    "- 3 problem is written clearly and succinctly\n",
    "- 3 solution is correct\n",
    "- 3 solution is clear\n",
    "- 3 image of bayes net neat, fully specified and included in jupyter\n",
    "- 3 markdown table of joint distribution included in jupyter and correct"
   ]
  },
  {
   "cell_type": "markdown",
   "metadata": {},
   "source": [
    "### Appendix 1: Uploading an image into a jupyter notebook\n",
    "To create the image of your bayes net \n",
    "- be sure to include all probabilities needed to fully specify it\n",
    "- generate an image:\n",
    "    - draw one and take a picture with your phone\n",
    "        - cam scanner please\n",
    "    - build it on the computer\n",
    "    - draw on a tablet\n",
    "- upload into the notebook by:\n",
    "    - uploading your image to [https://imgbb.com/](https://imgbb.com/)\n",
    "    - double clicking this jupyter cell\n",
    "    - replacing the hyperlink below with a hyperlink to your image\n",
    "        - (should have similar format as the example given)\n",
    "        - try right clicking \"copy image address\" or similar\n",
    "\n",
    "<img src=\"https://i.ibb.co/6rLKcSy/bayes-basketball.png\" width=400px>"
   ]
  },
  {
   "cell_type": "markdown",
   "metadata": {},
   "source": [
    "### Appendix 2: Making a table in a jupyter notebook\n",
    "\n",
    "- make table in your favorite spreadsheet application\n",
    "- copy / paste into [https://www.tablesgenerator.com/markdown_tables](https://www.tablesgenerator.com/markdown_tables)\n",
    "- copy / paste from markdown table generator into a markdown cell in jupyter"
   ]
  }
 ],
 "metadata": {
  "kernelspec": {
   "display_name": "Python 3 (ipykernel)",
   "language": "python",
   "name": "python3"
  },
  "language_info": {
   "codemirror_mode": {
    "name": "ipython",
    "version": 3
   },
   "file_extension": ".py",
   "mimetype": "text/x-python",
   "name": "python",
   "nbconvert_exporter": "python",
   "pygments_lexer": "ipython3",
   "version": "3.8.10"
  }
 },
 "nbformat": 4,
 "nbformat_minor": 4
}
