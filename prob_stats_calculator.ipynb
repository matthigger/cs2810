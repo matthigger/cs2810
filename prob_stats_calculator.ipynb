{
 "cells": [
  {
   "cell_type": "markdown",
   "id": "a507ea56",
   "metadata": {},
   "source": [
    "# Prob and Stats Calculator\n",
    "\n",
    "We'll drop a few useful prob and stats python functions below as we go along."
   ]
  },
  {
   "cell_type": "markdown",
   "id": "e84881ed",
   "metadata": {},
   "source": [
    "## Empty cell for you to do your own work below"
   ]
  },
  {
   "cell_type": "code",
   "execution_count": 1,
   "id": "2a1c4389",
   "metadata": {},
   "outputs": [],
   "source": [
    "from scipy.stats import binom, poisson\n",
    "from scipy.special import comb\n",
    "\n",
    "# your code here!"
   ]
  },
  {
   "cell_type": "markdown",
   "id": "c5d16a0d",
   "metadata": {},
   "source": [
    "# Binomial Distribution\n",
    "[Binomial Wikipedia](https://en.wikipedia.org/wiki/Binomial_distribution)"
   ]
  },
  {
   "cell_type": "code",
   "execution_count": 2,
   "id": "a5bae0e5",
   "metadata": {},
   "outputs": [
    {
     "data": {
      "text/plain": [
       "0.059535"
      ]
     },
     "execution_count": 2,
     "metadata": {},
     "output_type": "execute_result"
    }
   ],
   "source": [
    "from scipy.stats import binom\n",
    "\n",
    "# whats the probability of k=4 successes out of n=6 trials given the prob of success is p=.3\n",
    "k = 4\n",
    "n = 6\n",
    "p = .3\n",
    "binom.pmf(k=k, n=n, p=p)"
   ]
  },
  {
   "cell_type": "code",
   "execution_count": 3,
   "id": "3d66b8b8",
   "metadata": {},
   "outputs": [
    {
     "data": {
      "text/plain": [
       "2"
      ]
     },
     "execution_count": 3,
     "metadata": {},
     "output_type": "execute_result"
    }
   ],
   "source": [
    "# draw a binomial sample (simulate one binomial experiment)\n",
    "# n=10 experiments with each independently succeeding with p=.3\n",
    "# how many total experiments succeed?\n",
    "# (run this a few times to notice it gives different, random results each time)\n",
    "binom.rvs(n=10, p=.3)"
   ]
  },
  {
   "cell_type": "markdown",
   "id": "09340791",
   "metadata": {},
   "source": [
    "If you want to do some manual computation with the binomial you may want the [combination](https://en.wikipedia.org/wiki/Combination) formula:"
   ]
  },
  {
   "cell_type": "code",
   "execution_count": 4,
   "id": "70c5c2a1",
   "metadata": {},
   "outputs": [
    {
     "data": {
      "text/plain": [
       "10.0"
      ]
     },
     "execution_count": 4,
     "metadata": {},
     "output_type": "execute_result"
    }
   ],
   "source": [
    "from scipy.special import comb\n",
    "\n",
    "# how many ways can I choose k objects from N (without replacement, order doesn't matter)\n",
    "comb(N=10, k=9)"
   ]
  },
  {
   "cell_type": "markdown",
   "id": "19bc8810",
   "metadata": {},
   "source": [
    "# Poisson Distribution\n",
    "[Poisson Wikipedia](https://en.wikipedia.org/wiki/Poisson_distribution)"
   ]
  },
  {
   "cell_type": "code",
   "execution_count": 5,
   "id": "ead89b9f",
   "metadata": {},
   "outputs": [
    {
     "data": {
      "text/plain": [
       "0.049787068367863944"
      ]
     },
     "execution_count": 5,
     "metadata": {},
     "output_type": "execute_result"
    }
   ],
   "source": [
    "from scipy.stats import poisson\n",
    "\n",
    "# what the probability that 0 occurances happen given we expect value lambda = 3\n",
    "lam = 3\n",
    "poisson.pmf(k=0, mu=lam)"
   ]
  },
  {
   "cell_type": "code",
   "execution_count": 6,
   "id": "f8b13d20",
   "metadata": {},
   "outputs": [
    {
     "data": {
      "text/plain": [
       "array([5, 2, 3, 1, 4, 4, 1, 0, 5, 6])"
      ]
     },
     "execution_count": 6,
     "metadata": {},
     "output_type": "execute_result"
    }
   ],
   "source": [
    "# get a size=10 random samples from the poisson with expected value lambda = 3\n",
    "# (run this a few times to notice it gives different, random results each time)\n",
    "lam =3\n",
    "poisson.rvs(mu=lam, size=10)"
   ]
  },
  {
   "cell_type": "markdown",
   "id": "0ed954fd",
   "metadata": {},
   "source": [
    "# Estimators (Sample Mean and Sample Variance)\n",
    "\n",
    "We estimate the expected value of a random variable as its sample mean:\n",
    "\n",
    "$$ \\bar{x} = \\frac{1}{N} \\sum_i x_i $$\n",
    "\n",
    "And its sample variance as:\n",
    "\n",
    "$$ \\hat{\\sigma}^2 = \\frac{1}{N-1} \\sum_i (x_i - \\bar{x})^2 $$"
   ]
  },
  {
   "cell_type": "code",
   "execution_count": 7,
   "id": "b979a371",
   "metadata": {},
   "outputs": [
    {
     "data": {
      "text/plain": [
       "0.0"
      ]
     },
     "execution_count": 7,
     "metadata": {},
     "output_type": "execute_result"
    }
   ],
   "source": [
    "import numpy as np\n",
    "\n",
    "# the sample mean of an array is simply its mean\n",
    "x = np.array([-2, -1, 0, 1, 2])\n",
    "np.mean(x)"
   ]
  },
  {
   "cell_type": "code",
   "execution_count": 8,
   "id": "049a079e",
   "metadata": {},
   "outputs": [
    {
     "data": {
      "text/plain": [
       "2.5"
      ]
     },
     "execution_count": 8,
     "metadata": {},
     "output_type": "execute_result"
    }
   ],
   "source": [
    "# the sample variance (unbiased, with bessel's correction)\n",
    "np.var(x, ddof=1)"
   ]
  },
  {
   "cell_type": "code",
   "execution_count": 9,
   "id": "63013345",
   "metadata": {},
   "outputs": [
    {
     "data": {
      "text/plain": [
       "2.0"
      ]
     },
     "execution_count": 9,
     "metadata": {},
     "output_type": "execute_result"
    }
   ],
   "source": [
    "# the sample variance (biased, normalizes by N instead of N-1)\n",
    "np.var(x, ddof=0)"
   ]
  },
  {
   "cell_type": "code",
   "execution_count": 10,
   "id": "3fa4eb46",
   "metadata": {},
   "outputs": [
    {
     "data": {
      "text/plain": [
       "2.0"
      ]
     },
     "execution_count": 10,
     "metadata": {},
     "output_type": "execute_result"
    }
   ],
   "source": [
    "# the sample variance defaults to the biased version\n",
    "np.var(x)"
   ]
  },
  {
   "cell_type": "markdown",
   "id": "f886dd4c",
   "metadata": {},
   "source": [
    "# Computing CDF"
   ]
  },
  {
   "cell_type": "code",
   "execution_count": 1,
   "id": "6abe37ac",
   "metadata": {},
   "outputs": [
    {
     "data": {
      "text/plain": [
       "0.36944134018176367"
      ]
     },
     "execution_count": 1,
     "metadata": {},
     "output_type": "execute_result"
    }
   ],
   "source": [
    "from scipy.stats import norm\n",
    "\n",
    "# mean of normal distribution\n",
    "mu = 3\n",
    "\n",
    "# standard deviation of normal distribution\n",
    "std = 3\n",
    "\n",
    "# position we want to compute cdf at \n",
    "c = 2\n",
    "\n",
    "# compute the prob that x < c \n",
    "# (given x is normally distribution with mean=mu, and standard deviation=std)\n",
    "norm.cdf(x=c, loc=mu, scale=std)"
   ]
  },
  {
   "cell_type": "markdown",
   "id": "c9e274c3",
   "metadata": {},
   "source": [
    "### CDFs exist for other distributions too!"
   ]
  },
  {
   "cell_type": "code",
   "execution_count": 7,
   "id": "78724685",
   "metadata": {},
   "outputs": [
    {
     "data": {
      "text/plain": [
       "0.6472318887822313"
      ]
     },
     "execution_count": 7,
     "metadata": {},
     "output_type": "execute_result"
    }
   ],
   "source": [
    "# like the poisson!\n",
    "from scipy.stats import poisson\n",
    "\n",
    "# what the probability that 2 or fewer occurances happen given we expect value lambda = 3?\n",
    "lam = 3\n",
    "poisson.cdf(k=3, mu=lam)"
   ]
  },
  {
   "cell_type": "code",
   "execution_count": 8,
   "id": "ccde5f78",
   "metadata": {},
   "outputs": [
    {
     "data": {
      "text/plain": [
       "0.42319008112684353"
      ]
     },
     "execution_count": 8,
     "metadata": {},
     "output_type": "execute_result"
    }
   ],
   "source": [
    "# similarly:\n",
    "poisson.pmf(k=0, mu=lam) + poisson.pmf(k=1, mu=lam) + poisson.pmf(k=2, mu=lam)"
   ]
  }
 ],
 "metadata": {
  "kernelspec": {
   "display_name": "Python 3 (ipykernel)",
   "language": "python",
   "name": "python3"
  },
  "language_info": {
   "codemirror_mode": {
    "name": "ipython",
    "version": 3
   },
   "file_extension": ".py",
   "mimetype": "text/x-python",
   "name": "python",
   "nbconvert_exporter": "python",
   "pygments_lexer": "ipython3",
   "version": "3.8.10"
  }
 },
 "nbformat": 4,
 "nbformat_minor": 5
}
