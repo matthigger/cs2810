{
 "cells": [
  {
   "cell_type": "markdown",
   "id": "a507ea56",
   "metadata": {},
   "source": [
    "# Prob and Stats Calculator\n",
    "\n",
    "We'll drop a few useful prob and stats python functions below as we go along."
   ]
  },
  {
   "cell_type": "markdown",
   "id": "e84881ed",
   "metadata": {},
   "source": [
    "## Empty cell for you to do your own work below"
   ]
  },
  {
   "cell_type": "code",
   "execution_count": 6,
   "id": "2a1c4389",
   "metadata": {},
   "outputs": [],
   "source": [
    "from scipy.stats import binom, poisson\n",
    "from scipy.special import comb\n",
    "\n",
    "# your code here!"
   ]
  },
  {
   "cell_type": "markdown",
   "id": "c5d16a0d",
   "metadata": {},
   "source": [
    "# Binomial Distribution\n",
    "[Binomial Wikipedia](https://en.wikipedia.org/wiki/Binomial_distribution)"
   ]
  },
  {
   "cell_type": "code",
   "execution_count": 2,
   "id": "a5bae0e5",
   "metadata": {},
   "outputs": [
    {
     "data": {
      "text/plain": [
       "0.059535"
      ]
     },
     "execution_count": 2,
     "metadata": {},
     "output_type": "execute_result"
    }
   ],
   "source": [
    "from scipy.stats import binom\n",
    "\n",
    "# whats the probability of k=4 successes out of n=6 trials given the prob of success is p=.3\n",
    "k = 4\n",
    "n = 6\n",
    "p = .3\n",
    "binom.pmf(k=k, n=n, p=p)"
   ]
  },
  {
   "cell_type": "code",
   "execution_count": null,
   "id": "3d66b8b8",
   "metadata": {},
   "outputs": [],
   "source": [
    "# draw a binomial sample (simulate one binomial experiment)\n",
    "# n=10 experiments with each independently succeeding with p=.3\n",
    "# how many total experiments succeed?\n",
    "# (run this a few times to notice it gives different, random results each time)\n",
    "binom.rvs(n=10, p=.3)"
   ]
  },
  {
   "cell_type": "markdown",
   "id": "09340791",
   "metadata": {},
   "source": [
    "If you want to do some manual computation with the binomial you may want the [combination](https://en.wikipedia.org/wiki/Combination) formula:"
   ]
  },
  {
   "cell_type": "code",
   "execution_count": 10,
   "id": "70c5c2a1",
   "metadata": {},
   "outputs": [
    {
     "data": {
      "text/plain": [
       "10.0"
      ]
     },
     "execution_count": 10,
     "metadata": {},
     "output_type": "execute_result"
    }
   ],
   "source": [
    "from scipy.special import comb\n",
    "\n",
    "# how many ways can I choose k objects from N (without replacement, order doesn't matter)\n",
    "comb(N=10, k=9)"
   ]
  },
  {
   "cell_type": "markdown",
   "id": "19bc8810",
   "metadata": {},
   "source": [
    "# Poisson Distribution\n",
    "[Poisson Wikipedia](https://en.wikipedia.org/wiki/Poisson_distribution)"
   ]
  },
  {
   "cell_type": "code",
   "execution_count": 4,
   "id": "ead89b9f",
   "metadata": {},
   "outputs": [
    {
     "data": {
      "text/plain": [
       "0.049787068367863944"
      ]
     },
     "execution_count": 4,
     "metadata": {},
     "output_type": "execute_result"
    }
   ],
   "source": [
    "from scipy.stats import poisson\n",
    "\n",
    "# what the probability that 0 occurances happen given we expect value lambda = 3\n",
    "lam = 3\n",
    "poisson.pmf(k=0, mu=lam)"
   ]
  },
  {
   "cell_type": "code",
   "execution_count": 5,
   "id": "f8b13d20",
   "metadata": {},
   "outputs": [
    {
     "data": {
      "text/plain": [
       "array([6, 4, 4, 3, 7, 3, 1, 5, 1, 1])"
      ]
     },
     "execution_count": 5,
     "metadata": {},
     "output_type": "execute_result"
    }
   ],
   "source": [
    "# get a size=10 random samples from the poisson with expected value lambda = 3\n",
    "# (run this a few times to notice it gives different, random results each time)\n",
    "lam =3\n",
    "poisson.rvs(mu=lam, size=10)"
   ]
  }
 ],
 "metadata": {
  "kernelspec": {
   "display_name": "Python 3 (ipykernel)",
   "language": "python",
   "name": "python3"
  },
  "language_info": {
   "codemirror_mode": {
    "name": "ipython",
    "version": 3
   },
   "file_extension": ".py",
   "mimetype": "text/x-python",
   "name": "python",
   "nbconvert_exporter": "python",
   "pygments_lexer": "ipython3",
   "version": "3.8.10"
  }
 },
 "nbformat": 4,
 "nbformat_minor": 5
}
