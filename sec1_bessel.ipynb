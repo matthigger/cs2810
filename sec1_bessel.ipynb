{
 "cells": [
  {
   "cell_type": "code",
   "execution_count": 57,
   "metadata": {},
   "outputs": [],
   "source": [
    "import numpy as np\n",
    "import random\n",
    "import matplotlib.pyplot as plt"
   ]
  },
  {
   "cell_type": "code",
   "execution_count": 58,
   "metadata": {},
   "outputs": [],
   "source": [
    "mu, sigma = 0, 2 # mean and standard deviation\n",
    "\n",
    "# get 10000 examples from a normal distribution\n",
    "s = np.random.normal(mu, sigma, 10000)"
   ]
  },
  {
   "cell_type": "code",
   "execution_count": 59,
   "metadata": {},
   "outputs": [
    {
     "data": {
      "text/plain": [
       "array([ 2.18084608,  0.84318693,  1.5679882 ,  1.94043925,  1.29241861,\n",
       "       -2.50745234,  0.52308071, -2.04719907,  1.34056151, -0.45770328])"
      ]
     },
     "execution_count": 59,
     "metadata": {},
     "output_type": "execute_result"
    }
   ],
   "source": [
    "# What are the first 10 values\n",
    "s[:10]"
   ]
  },
  {
   "cell_type": "code",
   "execution_count": 60,
   "metadata": {},
   "outputs": [
    {
     "data": {
      "image/png": "[encoded data removed]",
      "text/plain": [
       "<Figure size 432x288 with 1 Axes>"
      ]
     },
     "metadata": {
      "needs_background": "light"
     },
     "output_type": "display_data"
    }
   ],
   "source": [
    "# Let's go look at them in a graph\n",
    "\n",
    "plt.hist(s, bins=20)\n",
    "plt.show()"
   ]
  },
  {
   "cell_type": "code",
   "execution_count": 61,
   "metadata": {},
   "outputs": [
    {
     "data": {
      "text/plain": [
       "3.983596677863245"
      ]
     },
     "execution_count": 61,
     "metadata": {},
     "output_type": "execute_result"
    }
   ],
   "source": [
    "# True variance\n",
    "np.var(s)"
   ]
  },
  {
   "cell_type": "code",
   "execution_count": 62,
   "metadata": {},
   "outputs": [],
   "source": [
    "# A function to calcate sigma_mean\n",
    "def sigma_mean(sample, x_bar):\n",
    "    total = 0\n",
    "    for x in sample:\n",
    "        diff = x - x_bar\n",
    "        total += diff **2\n",
    "    # 1 / N\n",
    "    return (1 / len(sample)) * total\n",
    "\n",
    "# A function to calcate bessel_mean\n",
    "def bessels(sample, x_bar):\n",
    "    total = 0\n",
    "    for x in sample:\n",
    "        diff = x - x_bar\n",
    "        total += diff **2\n",
    "    # 1 / (N - 1)\n",
    "    return (1 / (len(sample) - 1)) * total"
   ]
  },
  {
   "cell_type": "code",
   "execution_count": 68,
   "metadata": {},
   "outputs": [],
   "source": [
    "# What are we going to do?\n",
    "# for an individual sample, no guarantees about if\n",
    "# sigma_mean or sigma_bessel is closer to the true variance\n",
    "# BUT, what if we calculate these for a thousand samples?\n",
    "\n",
    "\n",
    "\n",
    "# calculate sigma mean and bessel's correction\n",
    "mean_vars = []\n",
    "bessels_vars = []\n",
    "# take 1000 samples\n",
    "for i in range(1000):\n",
    "    # each sample has 4 numbers\n",
    "    sample = [random.choice(s) for x in range(4)]\n",
    "    # calculate sigma mean\n",
    "    sample_mean = np.average(sample)\n",
    "    # (x_i - bar x)^2 \n",
    "    sigma_mean_val = sigma_mean(sample, sample_mean)\n",
    "    bessels_val = bessels(sample, sample_mean)\n",
    "    mean_vars.append(sigma_mean_val)\n",
    "    bessels_vars.append(bessels_val)"
   ]
  },
  {
   "cell_type": "code",
   "execution_count": 69,
   "metadata": {},
   "outputs": [
    {
     "name": "stdout",
     "output_type": "stream",
     "text": [
      "sigma mean: 3.04516782016406\n",
      "bessel's correction: 4.060223760218746\n"
     ]
    }
   ],
   "source": [
    "# true variance: \n",
    "# 3.983596677863245\n",
    "\n",
    "\n",
    "# with 1000 samples of size 4:\n",
    "# sigma mean: 3.04516782016406\n",
    "# bessel's correction: 4.060223760218746\n",
    "\n",
    "\n",
    "# with 1000 samples of size 40:\n",
    "# sigma mean: 3.8763540670238092\n",
    "# bessel's correction: 3.975747761050061\n",
    "\n",
    "# uncorrected\n",
    "print(\"sigma mean:\", np.average(mean_vars))\n",
    "# bessel's correction\n",
    "print(\"bessel's correction:\", np.average(bessels_vars))"
   ]
  },
  {
   "cell_type": "code",
   "execution_count": null,
   "metadata": {},
   "outputs": [],
   "source": []
  }
 ],
 "metadata": {
  "kernelspec": {
   "display_name": "Python 3",
   "language": "python",
   "name": "python3"
  },
  "language_info": {
   "codemirror_mode": {
    "name": "ipython",
    "version": 3
   },
   "file_extension": ".py",
   "mimetype": "text/x-python",
   "name": "python",
   "nbconvert_exporter": "python",
   "pygments_lexer": "ipython3",
   "version": "3.8.12"
  }
 },
 "nbformat": 4,
 "nbformat_minor": 4
}
